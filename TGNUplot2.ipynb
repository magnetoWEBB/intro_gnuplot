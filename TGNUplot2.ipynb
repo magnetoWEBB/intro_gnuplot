{
 "cells": [
  {
   "cell_type": "markdown",
   "metadata": {},
   "source": [
    "## 9. Plots avanzados"
   ]
  },
  {
   "cell_type": "code",
   "execution_count": 1,
   "metadata": {},
   "outputs": [
    {
     "name": "stdout",
     "output_type": "stream",
     "text": [
      "An unknown error occured. Failed to read and display image file from gnuplot.\n"
     ]
    },
    {
     "data": {
      "text/plain": [
       "\n",
       "Terminal type is now 'aqua'\n",
       "\n",
       "\tdummy variable is t for curves, u/v for surfaces\n",
       "Closing /tmp/gnuplot-inline-1520969087.614252.240688005700.png\n"
      ]
     },
     "execution_count": 1,
     "metadata": {},
     "output_type": "execute_result"
    }
   ],
   "source": [
    "set key rmargin top # Abajo del margen - Éste es un comentario\n",
    "\n",
    "set parametric\n",
    "\n",
    "set isosamples 50,50 #Define iso-superficies\n",
    "\n",
    "set hidden3d # Oculta líneas no visibles\n",
    "\n",
    "set pm3d\n",
    "set palette\n",
    "\n",
    "set title \"Donas entrecruzadas\"\n",
    "\n",
    "set xlabel \"{/Symbol a}\" offset -1,-0.5\n",
    "set ylabel \"{/Symbol b}\" offset -2.0,-0.5\n",
    "set zlabel \"{/Symbol g}\" offset +1.0,-0.5\n",
    "\n",
    "set urange [-pi:pi]\n",
    "set vrange [-pi:pi]\n",
    "\n",
    "set view 30,40,1\n",
    "\n",
    "#unset border\n",
    "\n",
    "#Podemos poner títulos a las leyendas con title \"título\"\n",
    "\n",
    "splot cos(u)+0.5*cos(u)*cos(v),sin(u)+0.5*sin(u)*cos(v),0.5*sin(v) title \"Dona 1\" lc 1,1+cos(u)+0.5*cos(u)*cos(v),0.5*sin(v),sin(u)+0.5*sin(u)*cos(v) title \"Dona 2\" lc 2"
   ]
  },
  {
   "cell_type": "code",
   "execution_count": 2,
   "metadata": {},
   "outputs": [
    {
     "name": "stdout",
     "output_type": "stream",
     "text": [
      "An unknown error occured. Failed to read and display image file from gnuplot.\n"
     ]
    },
    {
     "data": {
      "text/plain": [
       "\n",
       "Terminal type is now 'png'\n",
       "Options are 'nocrop enhanced size 900,700 font \"times,14.0\" '\n",
       "\n",
       "\tdummy variable is t for curves, u/v for surfaces\n"
      ]
     },
     "execution_count": 2,
     "metadata": {},
     "output_type": "execute_result"
    }
   ],
   "source": [
    "reset\n",
    "\n",
    "set term png size 900,700 font \"times,14\"\n",
    "\n",
    "set key lmargin # del margen - Éste es un comentario\n",
    "\n",
    "#set output \"Chao.png\"\n",
    "\n",
    "set parametric\n",
    "\n",
    "set isosamples 50,50 #Define iso-superficies\n",
    "\n",
    "set hidden3d # Oculta líneas no visibles\n",
    "\n",
    "#set grid\n",
    "\n",
    "set title \"Donas entrecruzadas\"\n",
    "\n",
    "set xlabel \"{/Symbol a}\" offset -1,-0.5\n",
    "set ylabel \"{/Symbol b}\" offset -2.0,-0.5\n",
    "set zlabel \"{/Symbol g}\" offset +1.0,-0.5\n",
    "\n",
    "set urange [-pi:pi]\n",
    "set vrange [-pi:pi]\n",
    "\n",
    "set view 30,50,0.7\n",
    "unset cntrparam\n",
    "set cntrparam levels incremental -1,0.2,+1\n",
    "set contour base\n",
    "set pm3d map\n",
    "\n",
    "set view map\n",
    "unset xlabel\n",
    "unset ylabel\n",
    "unset zlabel\n",
    "\n",
    "unset border\n",
    "unset tics\n",
    "unset surface\n",
    "unset key\n",
    "#Podemos poner títulos a las leyendas con title \"título\"\n",
    "\n",
    "splot cos(u)+0.5*cos(u)*cos(v),sin(u)+0.5*sin(u)*cos(v),0.5*sin(v) title \"Dona 1\",1+cos(u)+0.5*cos(u)*cos(v),0.5*sin(v),sin(u)+0.5*sin(u)*cos(v) title \"Dona 2\"\n",
    "unset cntrparam"
   ]
  },
  {
   "cell_type": "code",
   "execution_count": 3,
   "metadata": {},
   "outputs": [
    {
     "name": "stdout",
     "output_type": "stream",
     "text": [
      "An unknown error occured. Failed to read and display image file from gnuplot.\n"
     ]
    },
    {
     "data": {
      "text/plain": [
       "smooth palette in png: using 160 of 160 available color positions\n",
       "\n",
       "Terminal type is now 'png'\n",
       "Options are 'nocrop enhanced size 900,700 font \"times,14.0\" '\n",
       "\n",
       "\tdummy variable is t for curves, u/v for surfaces\n"
      ]
     },
     "execution_count": 3,
     "metadata": {},
     "output_type": "execute_result"
    }
   ],
   "source": [
    "reset\n",
    "\n",
    "set term png size 900,700 font \"times,14\"\n",
    "\n",
    "set key lmargin # del margen - Éste es un comentario\n",
    "\n",
    "#set output \"Chao.png\"\n",
    "\n",
    "set parametric\n",
    "\n",
    "set isosamples 50,50 #Define iso-superficies\n",
    "\n",
    "set hidden3d # Oculta líneas no visibles\n",
    "\n",
    "#set grid\n",
    "\n",
    "set title \"Donas entrecruzadas\"\n",
    "\n",
    "set xlabel \"{/Symbol a}\" offset -1,-0.5\n",
    "set ylabel \"{/Symbol b}\" offset -2.0,-0.5\n",
    "set zlabel \"{/Symbol g}\" offset +1.0,-0.5\n",
    "\n",
    "set urange [-pi:pi]\n",
    "set vrange [-pi:pi]\n",
    "\n",
    "set view 30,50,0.7\n",
    "unset cntrparam\n",
    "set cntrparam levels incremental -1,0.2,+1\n",
    "set contour\n",
    "set pm3d map\n",
    "set palette rgbformulae 33,13,10\n",
    "\n",
    "set view map\n",
    "unset xlabel\n",
    "unset ylabel\n",
    "unset zlabel\n",
    "\n",
    "#unset border\n",
    "unset surface\n",
    "unset key\n",
    "#Podemos poner títulos a las leyendas con title \"título\"\n",
    "\n",
    "splot cos(u)+0.5*cos(u)*cos(v),sin(u)+0.5*sin(u)*cos(v),0.5*sin(v) title \"Dona 1\"\n",
    "unset cntrparam"
   ]
  },
  {
   "cell_type": "code",
   "execution_count": null,
   "metadata": {},
   "outputs": [],
   "source": []
  },
  {
   "cell_type": "code",
   "execution_count": null,
   "metadata": {},
   "outputs": [],
   "source": []
  }
 ],
 "metadata": {
  "kernelspec": {
   "display_name": "gnuplot",
   "language": "gnuplot",
   "name": "gnuplot"
  },
  "language_info": {
   "codemirror_mode": "Octave",
   "file_extension": ".gp",
   "help_links": [
    {
     "text": "MetaKernel Magics",
     "url": "https://github.com/calysto/metakernel/blob/master/metakernel/magics/README.md"
    }
   ],
   "mimetype": "text/x-gnuplot",
   "name": "gnuplot"
  }
 },
 "nbformat": 4,
 "nbformat_minor": 2
}
